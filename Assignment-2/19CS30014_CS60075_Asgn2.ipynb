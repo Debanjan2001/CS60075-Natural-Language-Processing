{
  "nbformat": 4,
  "nbformat_minor": 0,
  "metadata": {
    "colab": {
      "provenance": [],
      "collapsed_sections": []
    },
    "kernelspec": {
      "name": "python3",
      "display_name": "Python 3"
    },
    "language_info": {
      "name": "python"
    }
  },
  "cells": [
    {
      "cell_type": "markdown",
      "source": [
        "Name: Debanjan Saha\n",
        "\n",
        "Roll: 19CS30014\n",
        "\n",
        "Running on: Local Machine"
      ],
      "metadata": {
        "id": "LzKEqTJ9glWg"
      }
    },
    {
      "cell_type": "code",
      "execution_count": null,
      "metadata": {
        "id": "l4zTV_DU8Jjk"
      },
      "outputs": [],
      "source": [
        "# Important Libraries\n",
        "\n",
        "import numpy as np\n",
        "import pandas as pd\n",
        "\n",
        "import matplotlib.pyplot as plt \n",
        "\n",
        "import re\n",
        "from collections import Counter\n",
        "\n",
        "from sklearn.model_selection import train_test_split\n",
        "\n",
        "import torch\n",
        "from torch.utils.data import DataLoader, TensorDataset\n",
        "import torch.nn as nn\n",
        "\n",
        "import os\n",
        "import random\n",
        "from tqdm.notebook import tqdm\n",
        "\n",
        "from sklearn.metrics import f1_score\n",
        "from sklearn.metrics import classification_report"
      ]
    },
    {
      "cell_type": "code",
      "source": [
        "# Fix seed \n",
        "\n",
        "global_seed = 42\n",
        "\n",
        "def set_seed(seed):\n",
        "    random.seed(seed)\n",
        "    os.environ['PYTHONHASHSEED'] = str(seed)\n",
        "    np.random.seed(seed)\n",
        "    torch.manual_seed(seed)\n",
        "    torch.cuda.manual_seed(seed)\n",
        "    torch.cuda.manual_seed_all(seed)\n",
        "    torch.backends.cudnn.deterministic = True\n",
        "    \n",
        "set_seed(global_seed)"
      ],
      "metadata": {
        "id": "75znVEBK2Zhm"
      },
      "execution_count": null,
      "outputs": []
    },
    {
      "cell_type": "markdown",
      "source": [
        "## Load Dataset"
      ],
      "metadata": {
        "id": "Gyn64Oj-Is7F"
      }
    },
    {
      "cell_type": "code",
      "source": [
        "df = pd.read_csv(\"IMDB_Dataset.csv\")"
      ],
      "metadata": {
        "id": "sS4nrQVX9j6A"
      },
      "execution_count": null,
      "outputs": []
    },
    {
      "cell_type": "markdown",
      "source": [
        "## Data Analysis"
      ],
      "metadata": {
        "id": "j-Knr1QrRfJA"
      }
    },
    {
      "cell_type": "code",
      "source": [
        "df.head()"
      ],
      "metadata": {
        "colab": {
          "base_uri": "https://localhost:8080/",
          "height": 206
        },
        "id": "JDzTntO09pMU",
        "outputId": "14bb2af8-3603-41e8-f7f1-3d956c29b598"
      },
      "execution_count": null,
      "outputs": [
        {
          "output_type": "execute_result",
          "data": {
            "text/plain": [
              "                                              review sentiment\n",
              "0  One of the other reviewers has mentioned that ...  positive\n",
              "1  A wonderful little production. <br /><br />The...  positive\n",
              "2  I thought this was a wonderful way to spend ti...  positive\n",
              "3  Basically there's a family where a little boy ...  negative\n",
              "4  Petter Mattei's \"Love in the Time of Money\" is...  positive"
            ],
            "text/html": [
              "<div>\n",
              "<style scoped>\n",
              "    .dataframe tbody tr th:only-of-type {\n",
              "        vertical-align: middle;\n",
              "    }\n",
              "\n",
              "    .dataframe tbody tr th {\n",
              "        vertical-align: top;\n",
              "    }\n",
              "\n",
              "    .dataframe thead th {\n",
              "        text-align: right;\n",
              "    }\n",
              "</style>\n",
              "<table border=\"1\" class=\"dataframe\">\n",
              "  <thead>\n",
              "    <tr style=\"text-align: right;\">\n",
              "      <th></th>\n",
              "      <th>review</th>\n",
              "      <th>sentiment</th>\n",
              "    </tr>\n",
              "  </thead>\n",
              "  <tbody>\n",
              "    <tr>\n",
              "      <th>0</th>\n",
              "      <td>One of the other reviewers has mentioned that ...</td>\n",
              "      <td>positive</td>\n",
              "    </tr>\n",
              "    <tr>\n",
              "      <th>1</th>\n",
              "      <td>A wonderful little production. &lt;br /&gt;&lt;br /&gt;The...</td>\n",
              "      <td>positive</td>\n",
              "    </tr>\n",
              "    <tr>\n",
              "      <th>2</th>\n",
              "      <td>I thought this was a wonderful way to spend ti...</td>\n",
              "      <td>positive</td>\n",
              "    </tr>\n",
              "    <tr>\n",
              "      <th>3</th>\n",
              "      <td>Basically there's a family where a little boy ...</td>\n",
              "      <td>negative</td>\n",
              "    </tr>\n",
              "    <tr>\n",
              "      <th>4</th>\n",
              "      <td>Petter Mattei's \"Love in the Time of Money\" is...</td>\n",
              "      <td>positive</td>\n",
              "    </tr>\n",
              "  </tbody>\n",
              "</table>\n",
              "</div>"
            ]
          },
          "metadata": {},
          "execution_count": 4
        }
      ]
    },
    {
      "cell_type": "code",
      "source": [
        "df.describe()"
      ],
      "metadata": {
        "colab": {
          "base_uri": "https://localhost:8080/",
          "height": 175
        },
        "id": "zIXySfSp9u1E",
        "outputId": "6dd9888f-3e00-4c3b-bc8e-47d75b04458b"
      },
      "execution_count": null,
      "outputs": [
        {
          "output_type": "execute_result",
          "data": {
            "text/plain": [
              "                                                   review sentiment\n",
              "count                                               50000     50000\n",
              "unique                                              49582         2\n",
              "top     Loved today's show!!! It was a variety and not...  positive\n",
              "freq                                                    5     25000"
            ],
            "text/html": [
              "<div>\n",
              "<style scoped>\n",
              "    .dataframe tbody tr th:only-of-type {\n",
              "        vertical-align: middle;\n",
              "    }\n",
              "\n",
              "    .dataframe tbody tr th {\n",
              "        vertical-align: top;\n",
              "    }\n",
              "\n",
              "    .dataframe thead th {\n",
              "        text-align: right;\n",
              "    }\n",
              "</style>\n",
              "<table border=\"1\" class=\"dataframe\">\n",
              "  <thead>\n",
              "    <tr style=\"text-align: right;\">\n",
              "      <th></th>\n",
              "      <th>review</th>\n",
              "      <th>sentiment</th>\n",
              "    </tr>\n",
              "  </thead>\n",
              "  <tbody>\n",
              "    <tr>\n",
              "      <th>count</th>\n",
              "      <td>50000</td>\n",
              "      <td>50000</td>\n",
              "    </tr>\n",
              "    <tr>\n",
              "      <th>unique</th>\n",
              "      <td>49582</td>\n",
              "      <td>2</td>\n",
              "    </tr>\n",
              "    <tr>\n",
              "      <th>top</th>\n",
              "      <td>Loved today's show!!! It was a variety and not...</td>\n",
              "      <td>positive</td>\n",
              "    </tr>\n",
              "    <tr>\n",
              "      <th>freq</th>\n",
              "      <td>5</td>\n",
              "      <td>25000</td>\n",
              "    </tr>\n",
              "  </tbody>\n",
              "</table>\n",
              "</div>"
            ]
          },
          "metadata": {},
          "execution_count": 5
        }
      ]
    },
    {
      "cell_type": "code",
      "source": [
        "df.isnull().any()"
      ],
      "metadata": {
        "colab": {
          "base_uri": "https://localhost:8080/"
        },
        "id": "Kay7ZPM69xtI",
        "outputId": "77f4095f-c07e-49bf-a041-15d17356ffa5"
      },
      "execution_count": null,
      "outputs": [
        {
          "output_type": "execute_result",
          "data": {
            "text/plain": [
              "review       False\n",
              "sentiment    False\n",
              "dtype: bool"
            ]
          },
          "metadata": {},
          "execution_count": 6
        }
      ]
    },
    {
      "cell_type": "code",
      "source": [
        "df['review'][1]"
      ],
      "metadata": {
        "colab": {
          "base_uri": "https://localhost:8080/"
        },
        "id": "HOpnUroAqhzS",
        "outputId": "ffd0933c-dd05-4c74-e163-f3b85a4e93c1"
      },
      "execution_count": null,
      "outputs": [
        {
          "output_type": "execute_result",
          "data": {
            "text/plain": [
              "'A wonderful little production. <br /><br />The filming technique is very unassuming- very old-time-BBC fashion and gives a comforting, and sometimes discomforting, sense of realism to the entire piece. <br /><br />The actors are extremely well chosen- Michael Sheen not only \"has got all the polari\" but he has all the voices down pat too! You can truly see the seamless editing guided by the references to Williams\\' diary entries, not only is it well worth the watching but it is a terrificly written and performed piece. A masterful production about one of the great master\\'s of comedy and his life. <br /><br />The realism really comes home with the little things: the fantasy of the guard which, rather than use the traditional \\'dream\\' techniques remains solid then disappears. It plays on our knowledge and our senses, particularly with the scenes concerning Orton and Halliwell and the sets (particularly of their flat with Halliwell\\'s murals decorating every surface) are terribly well done.'"
            ]
          },
          "metadata": {},
          "execution_count": 7
        }
      ]
    },
    {
      "cell_type": "markdown",
      "source": [
        "## Data preprocessing (for cleaning text)"
      ],
      "metadata": {
        "id": "DVSwwEL_Rodh"
      }
    },
    {
      "cell_type": "code",
      "source": [
        "from nltk.corpus import stopwords\n",
        "STOPWORDS = set(stopwords.words('english'))\n",
        "from nltk.stem import WordNetLemmatizer \n",
        "lemmatizer = WordNetLemmatizer()\n",
        "import re\n",
        "import contractions"
      ],
      "metadata": {
        "id": "s75pDZsqNDW9"
      },
      "execution_count": null,
      "outputs": []
    },
    {
      "cell_type": "code",
      "source": [
        "def clean_text(text):\n",
        "    # Remove HTML Tags\n",
        "    TAG_RE = re.compile(r'<[^>]+>') \n",
        "    text = TAG_RE.sub('', text.lower())\n",
        "    \n",
        "    ## Remove Emojis\n",
        "    text=text.encode(\"ascii\",\"ignore\")\n",
        "    text=text.decode()\n",
        "    \n",
        "    ## Ignore Numbers\n",
        "    text=''.join(i for i in text if not i.isdigit())\n",
        "    \n",
        "    ## Remove punctuation\n",
        "    text = re.sub(r'[^\\w\\s]', ' ', text) \n",
        "    \n",
        "    ## Remove nltk standard stopwords\n",
        "    text = ' '.join([i for i in text.split() if not i in STOPWORDS])\n",
        "  \n",
        "    #contractions\n",
        "    text=contractions.fix(text)\n",
        "    \n",
        "    #lemmatizer\n",
        "    text=lemmatizer.lemmatize(text)\n",
        "    return text"
      ],
      "metadata": {
        "id": "e9mKxKLsNsCv"
      },
      "execution_count": null,
      "outputs": []
    },
    {
      "cell_type": "code",
      "source": [
        "clean_text(df['review'][1])"
      ],
      "metadata": {
        "colab": {
          "base_uri": "https://localhost:8080/"
        },
        "id": "IjE3UfeDN3Zq",
        "outputId": "5ba3da3c-9bfb-4459-fc30-9fcd92b21b04"
      },
      "execution_count": null,
      "outputs": [
        {
          "output_type": "execute_result",
          "data": {
            "text/plain": [
              "'wonderful little production filming technique unassuming old time bbc fashion gives comforting sometimes discomforting sense realism entire piece actors extremely well chosen michael sheen got polari voices pat truly see seamless editing guided references williams diary entries well worth watching terrificly written performed piece masterful production one great master comedy life realism really comes home little things fantasy guard rather use traditional dream techniques remains solid disappears plays knowledge senses particularly scenes concerning orton halliwell sets particularly flat halliwell murals decorating every surface terribly well done'"
            ]
          },
          "metadata": {},
          "execution_count": 10
        }
      ]
    },
    {
      "cell_type": "code",
      "source": [
        "df['review'] = df['review'].apply(clean_text)\n",
        "df.head()"
      ],
      "metadata": {
        "colab": {
          "base_uri": "https://localhost:8080/",
          "height": 206
        },
        "id": "Km1RPVKIPSL4",
        "outputId": "fb0f99cf-6130-4a95-8295-fe239542a2a0"
      },
      "execution_count": null,
      "outputs": [
        {
          "output_type": "execute_result",
          "data": {
            "text/plain": [
              "                                              review sentiment\n",
              "0  one reviewers mentioned watching oz episode ho...  positive\n",
              "1  wonderful little production filming technique ...  positive\n",
              "2  thought wonderful way spend time hot summer we...  positive\n",
              "3  basically family little boy jake thinks zombie...  negative\n",
              "4  petter mattei love time money visually stunnin...  positive"
            ],
            "text/html": [
              "<div>\n",
              "<style scoped>\n",
              "    .dataframe tbody tr th:only-of-type {\n",
              "        vertical-align: middle;\n",
              "    }\n",
              "\n",
              "    .dataframe tbody tr th {\n",
              "        vertical-align: top;\n",
              "    }\n",
              "\n",
              "    .dataframe thead th {\n",
              "        text-align: right;\n",
              "    }\n",
              "</style>\n",
              "<table border=\"1\" class=\"dataframe\">\n",
              "  <thead>\n",
              "    <tr style=\"text-align: right;\">\n",
              "      <th></th>\n",
              "      <th>review</th>\n",
              "      <th>sentiment</th>\n",
              "    </tr>\n",
              "  </thead>\n",
              "  <tbody>\n",
              "    <tr>\n",
              "      <th>0</th>\n",
              "      <td>one reviewers mentioned watching oz episode ho...</td>\n",
              "      <td>positive</td>\n",
              "    </tr>\n",
              "    <tr>\n",
              "      <th>1</th>\n",
              "      <td>wonderful little production filming technique ...</td>\n",
              "      <td>positive</td>\n",
              "    </tr>\n",
              "    <tr>\n",
              "      <th>2</th>\n",
              "      <td>thought wonderful way spend time hot summer we...</td>\n",
              "      <td>positive</td>\n",
              "    </tr>\n",
              "    <tr>\n",
              "      <th>3</th>\n",
              "      <td>basically family little boy jake thinks zombie...</td>\n",
              "      <td>negative</td>\n",
              "    </tr>\n",
              "    <tr>\n",
              "      <th>4</th>\n",
              "      <td>petter mattei love time money visually stunnin...</td>\n",
              "      <td>positive</td>\n",
              "    </tr>\n",
              "  </tbody>\n",
              "</table>\n",
              "</div>"
            ]
          },
          "metadata": {},
          "execution_count": 11
        }
      ]
    },
    {
      "cell_type": "markdown",
      "source": [
        "## Apply labels"
      ],
      "metadata": {
        "id": "I8EttdyaRuXX"
      }
    },
    {
      "cell_type": "code",
      "source": [
        "df['label'] = df['sentiment'].apply(lambda x: 1 if x == 'positive' else 0)\n",
        "df.head()"
      ],
      "metadata": {
        "colab": {
          "base_uri": "https://localhost:8080/",
          "height": 206
        },
        "id": "844Arb5q91Oz",
        "outputId": "b446a61c-36a2-48a5-dfbc-f1b449ab69b7"
      },
      "execution_count": null,
      "outputs": [
        {
          "output_type": "execute_result",
          "data": {
            "text/plain": [
              "                                              review sentiment  label\n",
              "0  one reviewers mentioned watching oz episode ho...  positive      1\n",
              "1  wonderful little production filming technique ...  positive      1\n",
              "2  thought wonderful way spend time hot summer we...  positive      1\n",
              "3  basically family little boy jake thinks zombie...  negative      0\n",
              "4  petter mattei love time money visually stunnin...  positive      1"
            ],
            "text/html": [
              "<div>\n",
              "<style scoped>\n",
              "    .dataframe tbody tr th:only-of-type {\n",
              "        vertical-align: middle;\n",
              "    }\n",
              "\n",
              "    .dataframe tbody tr th {\n",
              "        vertical-align: top;\n",
              "    }\n",
              "\n",
              "    .dataframe thead th {\n",
              "        text-align: right;\n",
              "    }\n",
              "</style>\n",
              "<table border=\"1\" class=\"dataframe\">\n",
              "  <thead>\n",
              "    <tr style=\"text-align: right;\">\n",
              "      <th></th>\n",
              "      <th>review</th>\n",
              "      <th>sentiment</th>\n",
              "      <th>label</th>\n",
              "    </tr>\n",
              "  </thead>\n",
              "  <tbody>\n",
              "    <tr>\n",
              "      <th>0</th>\n",
              "      <td>one reviewers mentioned watching oz episode ho...</td>\n",
              "      <td>positive</td>\n",
              "      <td>1</td>\n",
              "    </tr>\n",
              "    <tr>\n",
              "      <th>1</th>\n",
              "      <td>wonderful little production filming technique ...</td>\n",
              "      <td>positive</td>\n",
              "      <td>1</td>\n",
              "    </tr>\n",
              "    <tr>\n",
              "      <th>2</th>\n",
              "      <td>thought wonderful way spend time hot summer we...</td>\n",
              "      <td>positive</td>\n",
              "      <td>1</td>\n",
              "    </tr>\n",
              "    <tr>\n",
              "      <th>3</th>\n",
              "      <td>basically family little boy jake thinks zombie...</td>\n",
              "      <td>negative</td>\n",
              "      <td>0</td>\n",
              "    </tr>\n",
              "    <tr>\n",
              "      <th>4</th>\n",
              "      <td>petter mattei love time money visually stunnin...</td>\n",
              "      <td>positive</td>\n",
              "      <td>1</td>\n",
              "    </tr>\n",
              "  </tbody>\n",
              "</table>\n",
              "</div>"
            ]
          },
          "metadata": {},
          "execution_count": 12
        }
      ]
    },
    {
      "cell_type": "markdown",
      "source": [
        "## Review length analysis"
      ],
      "metadata": {
        "id": "rQPyAWSZVrwU"
      }
    },
    {
      "cell_type": "code",
      "source": [
        "def plot_top_k_words(k=20):\n",
        "    words = [word for text in df['review'] for word in text.split()]\n",
        "    count_words = Counter(words)\n",
        "    most_freq_words = count_words.most_common(k)\n",
        "    wordlist = []\n",
        "    freqlist = []\n",
        "    for word, freq in most_freq_words:\n",
        "        wordlist .append(word)\n",
        "        freqlist.append(freq)\n",
        "        \n",
        "    plt.figure(figsize=(12, 5))\n",
        "    plt.bar(wordlist, freqlist)\n",
        "    plt.title(f'Top {k} most common words', size=15)\n",
        "    plt.show()"
      ],
      "metadata": {
        "id": "XCiTMd7CV2CU"
      },
      "execution_count": null,
      "outputs": []
    },
    {
      "cell_type": "code",
      "source": [
        "plot_top_k_words(15)"
      ],
      "metadata": {
        "id": "Ne9HdlRaip6d",
        "colab": {
          "base_uri": "https://localhost:8080/",
          "height": 338
        },
        "outputId": "3649d360-cb0d-48df-994f-49f035d0c20e"
      },
      "execution_count": null,
      "outputs": [
        {
          "output_type": "display_data",
          "data": {
            "text/plain": [
              "<Figure size 864x360 with 1 Axes>"
            ],
            "image/png": "[encoded data removed]"
          },
          "metadata": {
            "needs_background": "light"
          }
        }
      ]
    },
    {
      "cell_type": "markdown",
      "source": [
        "## Pretrained embedding generation [My Choice: Word2Vec]"
      ],
      "metadata": {
        "id": "plmaaMy_iqms"
      }
    },
    {
      "cell_type": "code",
      "source": [
        "from nltk.tokenize import sent_tokenize, word_tokenize\n",
        "import gensim\n",
        "from gensim.models import Word2Vec"
      ],
      "metadata": {
        "id": "97n1yiFZhqbt"
      },
      "execution_count": null,
      "outputs": []
    },
    {
      "cell_type": "code",
      "source": [
        "hyperparams = {\n",
        "    \"embedding_dim\" : 64,\n",
        "    \"batch_size\" : 50,\n",
        "    \"hidden_dim\" : 256,\n",
        "    \"output_size\" : 1,\n",
        "    \"n_layers\" : 1,\n",
        "    \"lr\" : 0.001,\n",
        "    \"clip\" : 5,\n",
        "    \"epochs\": 5,\n",
        "}"
      ],
      "metadata": {
        "id": "QrbnihpBNyc5"
      },
      "execution_count": null,
      "outputs": []
    },
    {
      "cell_type": "code",
      "source": [
        "data = []\n",
        "\n",
        "# empty string\n",
        "data.append([''])\n",
        "\n",
        "# iterate through each sentence in the training sentences\n",
        "for sentence in df['review']:\n",
        "    cur_sent = []\n",
        "    # tokenize the sentence into words\n",
        "    for word in sentence.split():\n",
        "        cur_sent.append(word.lower())\n",
        "    data.append(cur_sent)"
      ],
      "metadata": {
        "id": "cM5R0Swmhr2L"
      },
      "execution_count": null,
      "outputs": []
    },
    {
      "cell_type": "code",
      "source": [
        "embedding_dim = hyperparams[\"embedding_dim\"]\n",
        "\n",
        "w2v_model = Word2Vec(data, min_count=1, vector_size=embedding_dim, window=5, workers=4)"
      ],
      "metadata": {
        "id": "j2fA5lmHh_o8"
      },
      "execution_count": null,
      "outputs": []
    },
    {
      "cell_type": "code",
      "source": [
        "# w2v_model.wv.key_to_index['']"
      ],
      "metadata": {
        "id": "CYvEgmMLitF6"
      },
      "execution_count": null,
      "outputs": []
    },
    {
      "cell_type": "code",
      "source": [
        "reviews_idx = []\n",
        "for text in df['review']:\n",
        "    r = [w2v_model.wv.key_to_index[word] for word in text.split()]\n",
        "    reviews_idx.append(r)\n",
        "\n",
        "# print(reviews_int[:1])"
      ],
      "metadata": {
        "id": "rKnmmV6yV8aq"
      },
      "execution_count": null,
      "outputs": []
    },
    {
      "cell_type": "code",
      "source": [
        "review_len = [len(x) for x in reviews_idx]\n",
        "df['review_len'] = review_len\n",
        "df.head()"
      ],
      "metadata": {
        "colab": {
          "base_uri": "https://localhost:8080/",
          "height": 206
        },
        "id": "hFyy3urDSN2i",
        "outputId": "d4d28577-735b-4011-f016-4f0d104e5e99"
      },
      "execution_count": null,
      "outputs": [
        {
          "output_type": "execute_result",
          "data": {
            "text/plain": [
              "                                              review sentiment  label  \\\n",
              "0  one reviewers mentioned watching oz episode ho...  positive      1   \n",
              "1  wonderful little production filming technique ...  positive      1   \n",
              "2  thought wonderful way spend time hot summer we...  positive      1   \n",
              "3  basically family little boy jake thinks zombie...  negative      0   \n",
              "4  petter mattei love time money visually stunnin...  positive      1   \n",
              "\n",
              "   review_len  \n",
              "0         163  \n",
              "1          86  \n",
              "2          84  \n",
              "3          64  \n",
              "4         125  "
            ],
            "text/html": [
              "<div>\n",
              "<style scoped>\n",
              "    .dataframe tbody tr th:only-of-type {\n",
              "        vertical-align: middle;\n",
              "    }\n",
              "\n",
              "    .dataframe tbody tr th {\n",
              "        vertical-align: top;\n",
              "    }\n",
              "\n",
              "    .dataframe thead th {\n",
              "        text-align: right;\n",
              "    }\n",
              "</style>\n",
              "<table border=\"1\" class=\"dataframe\">\n",
              "  <thead>\n",
              "    <tr style=\"text-align: right;\">\n",
              "      <th></th>\n",
              "      <th>review</th>\n",
              "      <th>sentiment</th>\n",
              "      <th>label</th>\n",
              "      <th>review_len</th>\n",
              "    </tr>\n",
              "  </thead>\n",
              "  <tbody>\n",
              "    <tr>\n",
              "      <th>0</th>\n",
              "      <td>one reviewers mentioned watching oz episode ho...</td>\n",
              "      <td>positive</td>\n",
              "      <td>1</td>\n",
              "      <td>163</td>\n",
              "    </tr>\n",
              "    <tr>\n",
              "      <th>1</th>\n",
              "      <td>wonderful little production filming technique ...</td>\n",
              "      <td>positive</td>\n",
              "      <td>1</td>\n",
              "      <td>86</td>\n",
              "    </tr>\n",
              "    <tr>\n",
              "      <th>2</th>\n",
              "      <td>thought wonderful way spend time hot summer we...</td>\n",
              "      <td>positive</td>\n",
              "      <td>1</td>\n",
              "      <td>84</td>\n",
              "    </tr>\n",
              "    <tr>\n",
              "      <th>3</th>\n",
              "      <td>basically family little boy jake thinks zombie...</td>\n",
              "      <td>negative</td>\n",
              "      <td>0</td>\n",
              "      <td>64</td>\n",
              "    </tr>\n",
              "    <tr>\n",
              "      <th>4</th>\n",
              "      <td>petter mattei love time money visually stunnin...</td>\n",
              "      <td>positive</td>\n",
              "      <td>1</td>\n",
              "      <td>125</td>\n",
              "    </tr>\n",
              "  </tbody>\n",
              "</table>\n",
              "</div>"
            ]
          },
          "metadata": {},
          "execution_count": 21
        }
      ]
    },
    {
      "cell_type": "code",
      "source": [
        "print(df['review_len'].describe())\n",
        "df['review_len'].hist()\n",
        "plt.title('Review length distribution', size=15)\n",
        "plt.show()"
      ],
      "metadata": {
        "colab": {
          "base_uri": "https://localhost:8080/",
          "height": 439
        },
        "id": "4cEQmeBnVlzx",
        "outputId": "0c446b6c-8c40-4e35-f2eb-a4b1e214cac8"
      },
      "execution_count": null,
      "outputs": [
        {
          "output_type": "stream",
          "name": "stdout",
          "text": [
            "count    50000.00000\n",
            "mean       118.22032\n",
            "std         89.40908\n",
            "min          3.00000\n",
            "25%         63.00000\n",
            "50%         88.00000\n",
            "75%        144.00000\n",
            "max       1416.00000\n",
            "Name: review_len, dtype: float64\n"
          ]
        },
        {
          "output_type": "display_data",
          "data": {
            "text/plain": [
              "<Figure size 432x288 with 1 Axes>"
            ],
            "image/png": "[encoded data removed]"
          },
          "metadata": {
            "needs_background": "light"
          }
        }
      ]
    },
    {
      "cell_type": "markdown",
      "source": [
        "## Features"
      ],
      "metadata": {
        "id": "aEOC597iXXBw"
      }
    },
    {
      "cell_type": "code",
      "source": [
        "def generate_features(review_idx, sequence_len):\n",
        "    features = np.zeros((len(reviews_idx), sequence_len), dtype = int)\n",
        "    \n",
        "    for i, review in enumerate(reviews_idx):\n",
        "        feat = None\n",
        "        if len(review) >= sequence_len:\n",
        "            feat = review[: sequence_len]\n",
        "            \n",
        "        else:\n",
        "            temp = list(np.full(sequence_len - len(review), w2v_model.wv.key_to_index['']))\n",
        "            feat = review + temp\n",
        "\n",
        "        features[i, :] = np.array(feat)\n",
        "            \n",
        "    return features"
      ],
      "metadata": {
        "id": "Xadf-gHoWHhl"
      },
      "execution_count": null,
      "outputs": []
    },
    {
      "cell_type": "code",
      "source": [
        "features = generate_features(reviews_idx, 128)\n",
        "# print(features[0, :])"
      ],
      "metadata": {
        "id": "zdMJ3icRWTmh"
      },
      "execution_count": null,
      "outputs": []
    },
    {
      "cell_type": "code",
      "source": [
        "print(features.shape)"
      ],
      "metadata": {
        "colab": {
          "base_uri": "https://localhost:8080/"
        },
        "id": "AuB21hjFWU8b",
        "outputId": "e299cb85-e709-49ce-db83-e3210e3d10e5"
      },
      "execution_count": null,
      "outputs": [
        {
          "output_type": "stream",
          "name": "stdout",
          "text": [
            "(50000, 128)\n"
          ]
        }
      ]
    },
    {
      "cell_type": "code",
      "source": [
        "X_train, X_remain, y_train, y_remain = train_test_split(features, df['label'].to_numpy(), test_size=0.2, random_state=global_seed)\n",
        "X_dev, X_test, y_dev, y_test = train_test_split(X_remain, y_remain, test_size=0.5, random_state=global_seed)"
      ],
      "metadata": {
        "id": "mqhtF5VXW3xt"
      },
      "execution_count": null,
      "outputs": []
    },
    {
      "cell_type": "code",
      "source": [
        "print(X_train.shape, y_train.shape)\n",
        "print(X_dev.shape, y_dev.shape)\n",
        "print(X_test.shape, y_test.shape)"
      ],
      "metadata": {
        "colab": {
          "base_uri": "https://localhost:8080/"
        },
        "id": "uK10TZLGXK_-",
        "outputId": "2edb184b-71f6-49e5-9080-d74b62444047"
      },
      "execution_count": null,
      "outputs": [
        {
          "output_type": "stream",
          "name": "stdout",
          "text": [
            "(40000, 128) (40000,)\n",
            "(5000, 128) (5000,)\n",
            "(5000, 128) (5000,)\n"
          ]
        }
      ]
    },
    {
      "cell_type": "markdown",
      "source": [
        "## Dataloader"
      ],
      "metadata": {
        "id": "OgAnPjIgXbLk"
      }
    },
    {
      "cell_type": "code",
      "source": [
        "# dataloaders\n",
        "batch_size = hyperparams[\"batch_size\"]\n",
        "\n",
        "# create tensor dataset\n",
        "train_data = TensorDataset(torch.from_numpy(X_train), torch.from_numpy(y_train))\n",
        "test_data = TensorDataset(torch.from_numpy(X_test), torch.from_numpy(y_test))\n",
        "dev_data = TensorDataset(torch.from_numpy(X_dev), torch.from_numpy(y_dev))\n",
        "\n",
        "train_loader = DataLoader(train_data, shuffle=True, batch_size=batch_size)\n",
        "test_loader = DataLoader(test_data, shuffle=True, batch_size=batch_size)\n",
        "dev_loader = DataLoader(dev_data, shuffle=True, batch_size=batch_size)"
      ],
      "metadata": {
        "id": "_ygffOXDXSTK"
      },
      "execution_count": null,
      "outputs": []
    },
    {
      "cell_type": "markdown",
      "source": [
        "### Device"
      ],
      "metadata": {
        "id": "r1nokp09Zpap"
      }
    },
    {
      "cell_type": "code",
      "source": [
        "# setting device on GPU if available, else CPU\n",
        "device = torch.device('cuda' if torch.cuda.is_available() else 'cpu')\n",
        "print('Using device:', device)\n",
        "print()"
      ],
      "metadata": {
        "colab": {
          "base_uri": "https://localhost:8080/"
        },
        "id": "Y_P8PoIwYB5g",
        "outputId": "7854917f-cb0b-49b1-9328-2ac0c747b6b8"
      },
      "execution_count": null,
      "outputs": [
        {
          "output_type": "stream",
          "name": "stdout",
          "text": [
            "Using device: cuda\n",
            "\n"
          ]
        }
      ]
    },
    {
      "cell_type": "code",
      "source": [
        "pretrained_w2v_embeddings = torch.FloatTensor(w2v_model.wv.vectors)"
      ],
      "metadata": {
        "id": "H9wN7xQ3lGoD"
      },
      "execution_count": null,
      "outputs": []
    },
    {
      "cell_type": "code",
      "source": [
        "class sentimentLSTM(nn.Module):\n",
        "    \"\"\"\n",
        "    The Bi-LSTM model to perform Sentiment analysis.\n",
        "    \"\"\"\n",
        "    \n",
        "    def __init__(self, vocab_size, output_size, embedding_dim, hidden_dim, n_layers):\n",
        "        \"\"\"\n",
        "        Initialize the model by setting up the layers.\n",
        "        \"\"\"\n",
        "        super().__init__()\n",
        "        \n",
        "        self.output_size = output_size\n",
        "        self.hidden_dim = hidden_dim\n",
        "        self.n_layers = n_layers\n",
        "        \n",
        "        # Embedding and LSTM layers\n",
        "        self.embedding = nn.Embedding.from_pretrained(pretrained_w2v_embeddings)\n",
        "        self.lstm = nn.LSTM(\n",
        "            embedding_dim, \n",
        "            hidden_dim, \n",
        "            n_layers, \n",
        "            bidirectional=True,\n",
        "            batch_first=True\n",
        "        )\n",
        "        \n",
        "        self.dropout = nn.Dropout(0.3)\n",
        "        \n",
        "        self.fc = nn.Linear(hidden_dim, output_size)\n",
        "        self.sigmoid = nn.Sigmoid()\n",
        "        \n",
        "    def forward(self, x, hidden):\n",
        "        \"\"\"\n",
        "        Perform a forward pass of our model on some input and hidden state.\n",
        "        \"\"\"\n",
        "        batch_size = x.size(0)\n",
        "        \n",
        "        embeds = self.embedding(x)\n",
        "        lstm_out, hidden = self.lstm(embeds, hidden)\n",
        "        \n",
        "        lstm_out = lstm_out.contiguous().view(-1, self.hidden_dim)\n",
        "        \n",
        "        out = self.dropout(lstm_out)\n",
        "        out = self.fc(out)\n",
        "        \n",
        "        sig_out = self.sigmoid(out)\n",
        "        \n",
        "        sig_out = sig_out.view(batch_size, -1)\n",
        "        sig_out = sig_out[:, -1]\n",
        "\n",
        "        return sig_out, hidden\n",
        "    \n",
        "    def init_hidden(self, batch_size):\n",
        "        \"\"\"\n",
        "            Initializes hidden state \n",
        "        \"\"\"\n",
        "        \n",
        "        h0 = torch.zeros((2*self.n_layers,batch_size,self.hidden_dim)).to(device)\n",
        "        c0 = torch.zeros((2*self.n_layers,batch_size,self.hidden_dim)).to(device)\n",
        "        hidden = (h0,c0)\n",
        "        return hidden"
      ],
      "metadata": {
        "id": "97cYB2RKZ7ia"
      },
      "execution_count": null,
      "outputs": []
    },
    {
      "cell_type": "markdown",
      "source": [
        "## Instantiate the model with hyperparams"
      ],
      "metadata": {
        "id": "HhYpSk47a7Hj"
      }
    },
    {
      "cell_type": "code",
      "source": [
        "vocab_size = len(w2v_model.wv.key_to_index)\n",
        "output_size = 1\n",
        "hidden_dim = hyperparams[\"hidden_dim\"]\n",
        "n_layers = hyperparams[\"n_layers\"]\n",
        "\n",
        "model = sentimentLSTM(vocab_size, output_size, embedding_dim, hidden_dim, n_layers)"
      ],
      "metadata": {
        "id": "4HBzKRipa55C"
      },
      "execution_count": null,
      "outputs": []
    },
    {
      "cell_type": "code",
      "source": [
        "model = model.to(device)"
      ],
      "metadata": {
        "id": "-9Wm-V8_txQX"
      },
      "execution_count": null,
      "outputs": []
    },
    {
      "cell_type": "code",
      "source": [
        "!mkdir -p \"saved_model\""
      ],
      "metadata": {
        "id": "zURsYLs_bTAF"
      },
      "execution_count": null,
      "outputs": []
    },
    {
      "cell_type": "code",
      "source": [
        "lr=hyperparams[\"lr\"]\n",
        "\n",
        "criterion = nn.BCELoss()\n",
        "optimizer = torch.optim.Adam(model.parameters(), lr=lr)\n",
        "\n",
        "# function to predict accuracy\n",
        "def acc(pred,label):\n",
        "    pred = torch.round(pred.squeeze())\n",
        "    return torch.sum(pred == label.squeeze()).item()"
      ],
      "metadata": {
        "id": "h6W9IjqA6Rzg"
      },
      "execution_count": null,
      "outputs": []
    },
    {
      "cell_type": "markdown",
      "source": [
        "## Training and validation"
      ],
      "metadata": {
        "id": "kUibp308pnsc"
      }
    },
    {
      "cell_type": "code",
      "source": [
        "clip = hyperparams[\"clip\"]\n",
        "epochs = hyperparams[\"epochs\"]\n",
        "valid_loss_min = np.Inf\n",
        "\n",
        "epoch_tr_loss,epoch_vl_loss = [],[]\n",
        "epoch_tr_acc,epoch_vl_acc = [],[]\n",
        "\n",
        "for epoch in range(epochs):\n",
        "    train_losses = []\n",
        "    train_acc = 0.0\n",
        "\n",
        "    print(f\"Running Epoch {epoch+1}/{epochs}...\")\n",
        "\n",
        "    model.train()\n",
        "\n",
        "    h = model.init_hidden(batch_size)\n",
        "    for inputs, labels in train_loader:\n",
        "        \n",
        "        inputs, labels = inputs.to(device), labels.to(device)   \n",
        "\n",
        "        h = tuple([each.data for each in h])\n",
        "        \n",
        "        model.zero_grad()\n",
        "        output,h = model(inputs,h)\n",
        "        \n",
        "        loss = criterion(output.squeeze(), labels.float())\n",
        "        loss.backward()\n",
        "        train_losses.append(loss.item())\n",
        "\n",
        "        accuracy = acc(output,labels)\n",
        "        train_acc += accuracy\n",
        "\n",
        "        nn.utils.clip_grad_norm_(model.parameters(), clip)\n",
        "        optimizer.step()\n",
        "\n",
        "    epoch_train_loss = np.mean(train_losses)\n",
        "    epoch_train_acc = train_acc/len(train_loader.dataset)\n",
        "    epoch_tr_loss.append(epoch_train_loss)\n",
        "    epoch_tr_acc.append(epoch_train_acc)\n",
        "\n",
        "    print(f'train_loss : {epoch_train_loss}')\n",
        "    print(f'train_accuracy : {epoch_train_acc*100}')\n",
        "    \n",
        "        \n",
        "    val_h = model.init_hidden(batch_size)\n",
        "    val_losses = []\n",
        "    val_acc = 0.0\n",
        "    model.eval()\n",
        "    for inputs, labels in dev_loader:\n",
        "        val_h = tuple([each.data for each in val_h])\n",
        "\n",
        "        inputs, labels = inputs.to(device), labels.to(device)\n",
        "\n",
        "        output, val_h = model(inputs, val_h)\n",
        "        val_loss = criterion(output.squeeze(), labels.float())\n",
        "\n",
        "        val_losses.append(val_loss.item())\n",
        "            \n",
        "        accuracy = acc(output,labels)\n",
        "        val_acc += accuracy\n",
        "            \n",
        "    epoch_val_loss = np.mean(val_losses)\n",
        "    epoch_val_acc = val_acc/len(dev_loader.dataset)\n",
        "    epoch_vl_loss.append(epoch_val_loss)\n",
        "    epoch_vl_acc.append(epoch_val_acc)\n",
        "\n",
        "    print(f'Dev_loss : {epoch_val_loss}')\n",
        "    print(f'Dev_accuracy : {epoch_val_acc*100}')\n",
        "    \n",
        "    if epoch_val_loss <= valid_loss_min:\n",
        "        torch.save(model.state_dict(), 'saved_model/bilstm_model.ckpt')\n",
        "        print('Validation loss decreased ({:.6f} --> {:.6f}).  Saving model ...'.format(valid_loss_min,epoch_val_loss))\n",
        "        valid_loss_min = epoch_val_loss\n",
        "    print('-------------------------------------------------------------------------------')"
      ],
      "metadata": {
        "colab": {
          "base_uri": "https://localhost:8080/"
        },
        "id": "R3upci8Ya6bX",
        "outputId": "473abc4a-50ea-4460-cdc0-001ae91ccc46"
      },
      "execution_count": null,
      "outputs": [
        {
          "output_type": "stream",
          "name": "stdout",
          "text": [
            "Running Epoch 1/5...\n",
            "train_loss : 0.6910556026548147\n",
            "train_accuracy : 52.47500000000001\n",
            "Dev_loss : 0.6902347093820572\n",
            "Dev_accuracy : 53.0\n",
            "Validation loss decreased (inf --> 0.690235).  Saving model ...\n",
            "-------------------------------------------------------------------------------\n",
            "Running Epoch 2/5...\n",
            "train_loss : 0.47705568104982377\n",
            "train_accuracy : 77.775\n",
            "Dev_loss : 0.398704165071249\n",
            "Dev_accuracy : 82.76\n",
            "Validation loss decreased (0.690235 --> 0.398704).  Saving model ...\n",
            "-------------------------------------------------------------------------------\n",
            "Running Epoch 3/5...\n",
            "train_loss : 0.3854602662287652\n",
            "train_accuracy : 83.23\n",
            "Dev_loss : 0.35922286882996557\n",
            "Dev_accuracy : 84.8\n",
            "Validation loss decreased (0.398704 --> 0.359223).  Saving model ...\n",
            "-------------------------------------------------------------------------------\n",
            "Running Epoch 4/5...\n",
            "train_loss : 0.3618914450332522\n",
            "train_accuracy : 84.24000000000001\n",
            "Dev_loss : 0.3421985830366612\n",
            "Dev_accuracy : 85.1\n",
            "Validation loss decreased (0.359223 --> 0.342199).  Saving model ...\n",
            "-------------------------------------------------------------------------------\n",
            "Running Epoch 5/5...\n",
            "train_loss : 0.34900592498481275\n",
            "train_accuracy : 85.0675\n",
            "Dev_loss : 0.33876985996961595\n",
            "Dev_accuracy : 85.82\n",
            "Validation loss decreased (0.342199 --> 0.338770).  Saving model ...\n",
            "-------------------------------------------------------------------------------\n"
          ]
        }
      ]
    },
    {
      "cell_type": "markdown",
      "source": [
        "## Testing"
      ],
      "metadata": {
        "id": "8yg_jY32pqib"
      }
    },
    {
      "cell_type": "code",
      "source": [
        "model.load_state_dict(torch.load(\"saved_model/bilstm_model.ckpt\"))"
      ],
      "metadata": {
        "colab": {
          "base_uri": "https://localhost:8080/"
        },
        "id": "K9VVkBfC-t_p",
        "outputId": "44864ce8-4a08-4409-abf4-52699a37d734"
      },
      "execution_count": null,
      "outputs": [
        {
          "output_type": "execute_result",
          "data": {
            "text/plain": [
              "<All keys matched successfully>"
            ]
          },
          "metadata": {},
          "execution_count": 65
        }
      ]
    },
    {
      "cell_type": "code",
      "source": [
        "model.to(device)"
      ],
      "metadata": {
        "id": "TZ9_5Iq0putp"
      },
      "execution_count": null,
      "outputs": []
    },
    {
      "cell_type": "code",
      "source": [
        "test_losses = [] \n",
        "num_correct = 0\n",
        "\n",
        "test_h = model.init_hidden(batch_size)\n",
        "\n",
        "y_true = []\n",
        "y_pred = []\n",
        "\n",
        "model.eval()\n",
        "# iterate over test data\n",
        "for inputs, labels in test_loader:\n",
        "\n",
        "    test_h = tuple([each.data for each in test_h])\n",
        "\n",
        "    inputs, labels = inputs.to(device), labels.to(device)\n",
        "    \n",
        "    output, test_h = model(inputs, test_h)\n",
        "    \n",
        "    # calculate loss\n",
        "    test_loss = criterion(output.squeeze(), labels.float())\n",
        "    test_losses.append(test_loss.item())\n",
        "    \n",
        "    # convert output probabilities to predicted class (0 or 1)\n",
        "    pred = torch.round(output.squeeze())\n",
        "    \n",
        "    # compare predictions to true label\n",
        "    correct_tensor = pred.eq(labels.float().view_as(pred))\n",
        "    correct = np.squeeze(correct_tensor.cpu().numpy())\n",
        "    num_correct += np.sum(correct)\n",
        "\n",
        "    y_true.extend(labels.flatten().tolist())\n",
        "    y_pred.extend(pred.flatten().tolist())\n",
        "\n",
        "\n",
        "# avg test loss\n",
        "print(\"Test loss: {:.3f}\\n\".format(np.mean(test_losses)))\n",
        "\n",
        "# accuracy over all test data\n",
        "test_acc = num_correct/len(test_loader.dataset)\n",
        "print(\"Test accuracy: {:.3f}\".format(test_acc))\n",
        "print(f\"Overall F1-Score: {f1_score(y_true, y_pred)}\")\n",
        "print(classification_report(y_true, y_pred))"
      ],
      "metadata": {
        "colab": {
          "base_uri": "https://localhost:8080/"
        },
        "id": "zw5PbjAsbd8h",
        "outputId": "f891394f-9611-4ca4-8cf1-b970c6262477"
      },
      "execution_count": null,
      "outputs": [
        {
          "output_type": "stream",
          "name": "stdout",
          "text": [
            "Test loss: 0.335\n",
            "\n",
            "Test accuracy: 0.858\n",
            "Overall F1-Score: 0.8623356535189481\n",
            "              precision    recall  f1-score   support\n",
            "\n",
            "           0       0.87      0.84      0.85      2462\n",
            "           1       0.85      0.88      0.86      2538\n",
            "\n",
            "    accuracy                           0.86      5000\n",
            "   macro avg       0.86      0.86      0.86      5000\n",
            "weighted avg       0.86      0.86      0.86      5000\n",
            "\n"
          ]
        }
      ]
    },
    {
      "cell_type": "code",
      "source": [],
      "metadata": {
        "id": "IOAZvvkOsczV"
      },
      "execution_count": null,
      "outputs": []
    }
  ]
}